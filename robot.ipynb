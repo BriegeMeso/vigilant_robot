{
 "cells": [
  {
   "cell_type": "markdown",
   "id": "01ca9476",
   "metadata": {},
   "source": [
    "### Git"
   ]
  },
  {
   "cell_type": "code",
   "execution_count": null,
   "id": "966d183f",
   "metadata": {},
   "outputs": [],
   "source": [
    "\"\"\"\n",
    "Our main agenda is to upload/push to Github\n",
    "\n",
    "Steps before pushing\n",
    "-Make sure Git is initialized-Tells Git to start tracking the changes\n",
    "\n",
    "\"\"\"\n",
    "-Stage our changes\n",
    "       git add <arguments>\n",
    "-You can tll Git to only take changes of a particular file eg.\n",
    "        git add robot.ipynb\n",
    "\n",
    "        #tracking all the files\n",
    "        git add .\n",
    "-Taking the snapshot with a label\n",
    "     git commit -m 'First Commit'  #m is the message you want to commit\n",
    "\n",
    "-Uploading to GitHub ## You need internet to push\n",
    "      git push origin <name of your branch>\n",
    "\n",
    "-Git remote add origin <url> "
   ]
  },
  {
   "cell_type": "markdown",
   "id": "c4e191f0",
   "metadata": {},
   "source": [
    "### Python file I/O\n",
    "Python's builf in ways to opening/loading files. (Input and Output.)\n",
    "'open()' is the ddicated function in python to load files.\n",
    "\n",
    "'''\n",
    "Syntax:\n",
    "open(filename, mode)# mode tells python what to do with the file.\n",
    "\n",
    "\n",
    "***Mode\n",
    "*  'r'------> read only\n",
    "*  'w'-------> write only(If the exists, it's overwritten, else if it doesn't exist it creates a new file.)\n",
    "*  'r+'-------> read and write\n",
    "*   'a'-------> append only(going to write new data at the end of the file without erasing existing.)"
   ]
  },
  {
   "cell_type": "code",
   "execution_count": 4,
   "id": "83766ec7",
   "metadata": {},
   "outputs": [
    {
     "data": {
      "text/html": [
       "<div>\n",
       "<style scoped>\n",
       "    .dataframe tbody tr th:only-of-type {\n",
       "        vertical-align: middle;\n",
       "    }\n",
       "\n",
       "    .dataframe tbody tr th {\n",
       "        vertical-align: top;\n",
       "    }\n",
       "\n",
       "    .dataframe thead th {\n",
       "        text-align: right;\n",
       "    }\n",
       "</style>\n",
       "<table border=\"1\" class=\"dataframe\">\n",
       "  <thead>\n",
       "    <tr style=\"text-align: right;\">\n",
       "      <th></th>\n",
       "      <th>A</th>\n",
       "      <th>B</th>\n",
       "      <th>C</th>\n",
       "      <th>D</th>\n",
       "      <th>E</th>\n",
       "    </tr>\n",
       "  </thead>\n",
       "  <tbody>\n",
       "    <tr>\n",
       "      <th>0</th>\n",
       "      <td>1</td>\n",
       "      <td>2</td>\n",
       "      <td>3</td>\n",
       "      <td>4</td>\n",
       "      <td>5</td>\n",
       "    </tr>\n",
       "    <tr>\n",
       "      <th>1</th>\n",
       "      <td>1</td>\n",
       "      <td>2</td>\n",
       "      <td>3</td>\n",
       "      <td>4</td>\n",
       "      <td>5</td>\n",
       "    </tr>\n",
       "    <tr>\n",
       "      <th>2</th>\n",
       "      <td>1</td>\n",
       "      <td>2</td>\n",
       "      <td>3</td>\n",
       "      <td>4</td>\n",
       "      <td>5</td>\n",
       "    </tr>\n",
       "  </tbody>\n",
       "</table>\n",
       "</div>"
      ],
      "text/plain": [
       "   A  B  C  D  E\n",
       "0  1  2  3  4  5\n",
       "1  1  2  3  4  5\n",
       "2  1  2  3  4  5"
      ]
     },
     "execution_count": 4,
     "metadata": {},
     "output_type": "execute_result"
    }
   ],
   "source": [
    "##This is usually how we open our cvs files\n",
    "\n",
    "import pandas as pd\n",
    "pd.read_csv('sample.csv').head()"
   ]
  },
  {
   "cell_type": "code",
   "execution_count": null,
   "id": "81f79a46",
   "metadata": {},
   "outputs": [],
   "source": [
    "x = open('./sample.csv', 'r')\n",
    "\n",
    "x.read()\n",
    "\n",
    "#x.close() you always need to close the file at the end of it\n"
   ]
  },
  {
   "cell_type": "code",
   "execution_count": null,
   "id": "0e256937",
   "metadata": {},
   "outputs": [],
   "source": [
    "##'with' \n",
    "This automatically opens and closes the file when using the open() function."
   ]
  },
  {
   "cell_type": "code",
   "execution_count": 7,
   "id": "6dcffa1e",
   "metadata": {},
   "outputs": [
    {
     "name": "stdout",
     "output_type": "stream",
     "text": [
      "A,B,C,D,E\n",
      "1,2,3,4,5\n",
      "1,2,3,4,5\n",
      "1,2,3,4,5\n"
     ]
    }
   ],
   "source": [
    "with open('./sample.csv', 'r') as f:\n",
    "      print(f.read())"
   ]
  },
  {
   "cell_type": "code",
   "execution_count": null,
   "id": "af362c31",
   "metadata": {},
   "outputs": [
    {
     "name": "stdout",
     "output_type": "stream",
     "text": [
      "1 2\n",
      "1 2\n",
      "1 2\n"
     ]
    }
   ],
   "source": [
    "import csv\n",
    "###reading your sample file as a dictionary\n",
    "with open('./sample.csv') as f:\n",
    "    reader = csv.DictReader(f)\n",
    "    \n",
    "    for row in reader:\n",
    "        print(row['A'], row['B'])"
   ]
  },
  {
   "cell_type": "code",
   "execution_count": 14,
   "id": "0bf6e31e",
   "metadata": {},
   "outputs": [],
   "source": [
    "with open('cities.text', 'w') as f:\n",
    "    f.write('Amsterdam | Kenya |Zanzibar')"
   ]
  },
  {
   "cell_type": "code",
   "execution_count": 15,
   "id": "1ff0478c",
   "metadata": {},
   "outputs": [],
   "source": [
    "###Create a new file and write to it\n",
    "with open('cities.text', 'w') as f:\n",
    "    f.write('Dallas | London |Cairo')"
   ]
  }
 ],
 "metadata": {
  "kernelspec": {
   "display_name": "learn-env",
   "language": "python",
   "name": "python3"
  },
  "language_info": {
   "codemirror_mode": {
    "name": "ipython",
    "version": 3
   },
   "file_extension": ".py",
   "mimetype": "text/x-python",
   "name": "python",
   "nbconvert_exporter": "python",
   "pygments_lexer": "ipython3",
   "version": "3.8.5"
  }
 },
 "nbformat": 4,
 "nbformat_minor": 5
}
